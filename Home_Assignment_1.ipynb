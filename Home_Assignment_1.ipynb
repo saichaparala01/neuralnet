{
  "nbformat": 4,
  "nbformat_minor": 0,
  "metadata": {
    "colab": {
      "provenance": []
    },
    "kernelspec": {
      "name": "python3",
      "display_name": "Python 3"
    },
    "language_info": {
      "name": "python"
    }
  },
  "cells": [
    {
      "cell_type": "code",
      "source": [
        "Home Assignment - 1\n",
        "\n",
        "Student Name - Mounika Sai Chowdary Chaparala\n",
        "\n",
        "Student ID - 700778259"
      ],
      "metadata": {
        "id": "84vWqBxbQgPd"
      },
      "execution_count": null,
      "outputs": []
    },
    {
      "cell_type": "code",
      "execution_count": null,
      "metadata": {
        "colab": {
          "base_uri": "https://localhost:8080/",
          "height": 122
        },
        "id": "Y3iZRA4nRbA0",
        "outputId": "39bb4243-cd16-42aa-fbb4-f54fe9c2808d"
      },
      "outputs": [
        {
          "output_type": "stream",
          "name": "stdout",
          "text": [
            "Original Rank: 2, Shape: (4, 6)\n",
            "Reshaped Shape: (2, 3, 4)\n",
            "Transposed Shape: (3, 2, 4)\n",
            "Resulting Shape after Broadcasting & Addition: (3, 2, 4)\n"
          ]
        },
        {
          "output_type": "execute_result",
          "data": {
            "text/plain": [
              "'\\nTensorFlow broadcasting automatically expands the dimensions of a smaller tensor \\nto match the shape of the larger tensor if they are compatible. The expansion \\nhappens by repeating values along missing dimensions, without physically copying the data.\\n'"
            ],
            "application/vnd.google.colaboratory.intrinsic+json": {
              "type": "string"
            }
          },
          "metadata": {},
          "execution_count": 1
        }
      ],
      "source": [
        "import tensorflow as tf\n",
        "\n",
        "# 1. Create a random tensor of shape (4, 6)\n",
        "tensor = tf.random.uniform(shape=(4, 6))\n",
        "\n",
        "# 2. Find rank and shape\n",
        "rank = tf.rank(tensor)  # Rank of tensor\n",
        "shape = tensor.shape    # Shape before reshaping\n",
        "\n",
        "print(f\"Original Rank: {rank.numpy()}, Shape: {shape}\")\n",
        "\n",
        "# 3. Reshape into (2, 3, 4) and transpose to (3, 2, 4)\n",
        "reshaped_tensor = tf.reshape(tensor, (2, 3, 4))\n",
        "transposed_tensor = tf.transpose(reshaped_tensor, perm=[1, 0, 2])\n",
        "\n",
        "print(f\"Reshaped Shape: {reshaped_tensor.shape}\")\n",
        "print(f\"Transposed Shape: {transposed_tensor.shape}\")\n",
        "\n",
        "# 4. Broadcast a smaller tensor (1, 4) and add to the larger tensor\n",
        "small_tensor = tf.random.uniform(shape=(1, 4))\n",
        "broadcasted_tensor = tf.broadcast_to(small_tensor, transposed_tensor.shape)\n",
        "result_tensor = transposed_tensor + broadcasted_tensor\n",
        "\n",
        "print(f\"Resulting Shape after Broadcasting & Addition: {result_tensor.shape}\")\n",
        "\n",
        "# 5. Explanation of Broadcasting\n",
        "\"\"\"\n",
        "TensorFlow broadcasting automatically expands the dimensions of a smaller tensor\n",
        "to match the shape of the larger tensor if they are compatible.\n",
        "The expansion happens by repeating values along missing dimensions, without physically copying the data.\n",
        "\"\"\"\n"
      ]
    },
    {
      "cell_type": "code",
      "source": [
        "#2 Import necessary libraries\n",
        "import tensorflow as tf\n",
        "import numpy as np\n",
        "import matplotlib.pyplot as plt\n",
        "\n",
        "# Step 1: Define true values (y_true) and model predictions (y_pred)\n",
        "y_true = np.array([0, 1, 0, 0])  # One-hot encoded true labels\n",
        "y_pred1 = np.array([0.1, 0.7, 0.1, 0.1])  # Initial predictions\n",
        "y_pred2 = np.array([0.2, 0.5, 0.2, 0.1])  # Modified predictions\n",
        "\n",
        "# Step 2: Compute Mean Squared Error (MSE) and Categorical Cross-Entropy (CCE) losses\n",
        "mse = tf.keras.losses.MeanSquaredError()\n",
        "cce = tf.keras.losses.CategoricalCrossentropy()\n",
        "\n",
        "mse_loss1 = mse(y_true, y_pred1).numpy()\n",
        "cce_loss1 = cce(y_true, y_pred1).numpy()\n",
        "\n",
        "mse_loss2 = mse(y_true, y_pred2).numpy()\n",
        "cce_loss2 = cce(y_true, y_pred2).numpy()\n",
        "\n",
        "# Step 3: Print loss values before and after modifying predictions\n",
        "print(f\"Initial MSE Loss: {mse_loss1}\")\n",
        "print(f\"Initial CCE Loss: {cce_loss1}\")\n",
        "print(f\"Modified MSE Loss: {mse_loss2}\")\n",
        "print(f\"Modified CCE Loss: {cce_loss2}\")\n",
        "\n",
        "# Step 4: Plot loss function values\n",
        "loss_values = [mse_loss1, cce_loss1, mse_loss2, cce_loss2]\n",
        "labels = [\"MSE (Initial)\", \"CCE (Initial)\", \"MSE (Modified)\", \"CCE (Modified)\"]\n",
        "\n",
        "plt.bar(labels, loss_values, color=['blue', 'red', 'blue', 'red'])\n",
        "plt.ylabel(\"Loss Value\")\n",
        "plt.title(\"Comparison of MSE and Cross-Entropy Loss\")\n",
        "plt.show()\n"
      ],
      "metadata": {
        "colab": {
          "base_uri": "https://localhost:8080/",
          "height": 521
        },
        "id": "660BEebJSZ6t",
        "outputId": "e18d1955-5527-45a6-ed39-15e195d9007b"
      },
      "execution_count": null,
      "outputs": [
        {
          "output_type": "stream",
          "name": "stdout",
          "text": [
            "Initial MSE Loss: 0.029999999329447746\n",
            "Initial CCE Loss: 0.3566749691963196\n",
            "Modified MSE Loss: 0.08499999344348907\n",
            "Modified CCE Loss: 0.6931471824645996\n"
          ]
        },
        {
          "output_type": "display_data",
          "data": {
            "text/plain": [
              "<Figure size 640x480 with 1 Axes>"
            ],
            "image/png": "[encoded data removed]"
          },
          "metadata": {}
        }
      ]
    },
    {
      "cell_type": "code",
      "source": [
        "#3 Import required libraries\n",
        "import tensorflow as tf\n",
        "import numpy as np\n",
        "import matplotlib.pyplot as plt\n",
        "\n",
        "# Step 1: Load and preprocess the MNIST dataset\n",
        "mnist = tf.keras.datasets.mnist\n",
        "(x_train, y_train), (x_test, y_test) = mnist.load_data()\n",
        "\n",
        "# Normalize the pixel values\n",
        "x_train, x_test = x_train / 255.0, x_test / 255.0\n",
        "\n",
        "# Step 2: Define a simple neural network model\n",
        "model = tf.keras.Sequential([\n",
        "    tf.keras.layers.Flatten(input_shape=(28, 28)),  # Convert images to 1D vector\n",
        "    tf.keras.layers.Dense(128, activation='relu'),\n",
        "    tf.keras.layers.Dense(10, activation='softmax')  # Output layer (10 classes)\n",
        "])\n",
        "\n",
        "# Compile the model with loss function and optimizer\n",
        "model.compile(\n",
        "    optimizer='adam',\n",
        "    loss='sparse_categorical_crossentropy',\n",
        "    metrics=['accuracy']\n",
        ")\n",
        "\n",
        "# Enable TensorBoard logging\n",
        "log_dir = \"logs/fit/\"\n",
        "tensorboard_callback = tf.keras.callbacks.TensorBoard(log_dir=log_dir, histogram_freq=1)\n",
        "\n",
        "# Step 3: Train the model for 5 epochs with TensorBoard logging\n",
        "model.fit(x_train, y_train, epochs=5, validation_data=(x_test, y_test), callbacks=[tensorboard_callback])\n",
        "\n",
        "# Step 4: Launch TensorBoard\n",
        "\"\"\"\n",
        "To visualize TensorBoard:\n",
        "1. Open a terminal and navigate to the directory where logs are stored.\n",
        "2. Run: `tensorboard --logdir=logs/fit`\n",
        "3. Open the provided TensorBoard link in a browser.\n",
        "\"\"\"\n",
        "\n",
        "print(\"Training complete! Use TensorBoard to analyze loss and accuracy trends.\")"
      ],
      "metadata": {
        "colab": {
          "base_uri": "https://localhost:8080/"
        },
        "id": "ijtex7Fowh-5",
        "outputId": "82834296-6365-4ffc-c220-1b86348dadf4"
      },
      "execution_count": null,
      "outputs": [
        {
          "output_type": "stream",
          "name": "stdout",
          "text": [
            "Downloading data from https://storage.googleapis.com/tensorflow/tf-keras-datasets/mnist.npz\n",
            "\u001b[1m11490434/11490434\u001b[0m \u001b[32m━━━━━━━━━━━━━━━━━━━━\u001b[0m\u001b[37m\u001b[0m \u001b[1m0s\u001b[0m 0us/step\n"
          ]
        },
        {
          "output_type": "stream",
          "name": "stderr",
          "text": [
            "/usr/local/lib/python3.11/dist-packages/keras/src/layers/reshaping/flatten.py:37: UserWarning: Do not pass an `input_shape`/`input_dim` argument to a layer. When using Sequential models, prefer using an `Input(shape)` object as the first layer in the model instead.\n",
            "  super().__init__(**kwargs)\n"
          ]
        },
        {
          "output_type": "stream",
          "name": "stdout",
          "text": [
            "Epoch 1/5\n",
            "\u001b[1m1875/1875\u001b[0m \u001b[32m━━━━━━━━━━━━━━━━━━━━\u001b[0m\u001b[37m\u001b[0m \u001b[1m13s\u001b[0m 6ms/step - accuracy: 0.8794 - loss: 0.4306 - val_accuracy: 0.9618 - val_loss: 0.1291\n",
            "Epoch 2/5\n",
            "\u001b[1m1875/1875\u001b[0m \u001b[32m━━━━━━━━━━━━━━━━━━━━\u001b[0m\u001b[37m\u001b[0m \u001b[1m10s\u001b[0m 5ms/step - accuracy: 0.9664 - loss: 0.1176 - val_accuracy: 0.9731 - val_loss: 0.0904\n",
            "Epoch 3/5\n",
            "\u001b[1m1875/1875\u001b[0m \u001b[32m━━━━━━━━━━━━━━━━━━━━\u001b[0m\u001b[37m\u001b[0m \u001b[1m8s\u001b[0m 4ms/step - accuracy: 0.9788 - loss: 0.0730 - val_accuracy: 0.9728 - val_loss: 0.0877\n",
            "Epoch 4/5\n",
            "\u001b[1m1875/1875\u001b[0m \u001b[32m━━━━━━━━━━━━━━━━━━━━\u001b[0m\u001b[37m\u001b[0m \u001b[1m9s\u001b[0m 5ms/step - accuracy: 0.9839 - loss: 0.0532 - val_accuracy: 0.9753 - val_loss: 0.0777\n",
            "Epoch 5/5\n",
            "\u001b[1m1875/1875\u001b[0m \u001b[32m━━━━━━━━━━━━━━━━━━━━\u001b[0m\u001b[37m\u001b[0m \u001b[1m9s\u001b[0m 5ms/step - accuracy: 0.9886 - loss: 0.0384 - val_accuracy: 0.9780 - val_loss: 0.0705\n",
            "Training complete! Use TensorBoard to analyze loss and accuracy trends.\n"
          ]
        }
      ]
    },
    {
      "cell_type": "code",
      "source": [
        "#4\n",
        "1. \"\"\"Patterns in Training & Validation Accuracy Curves:\n",
        "   - Both training and validation accuracy should steadily increase and converge.\n",
        "   - If training accuracy rises while validation accuracy plateaus or declines, it suggests overfitting—the model is memorizing training data but failing to generalize.\n",
        "   - If both accuracies stagnate at low values, the model may be underfitting due to insufficient complexity or poor feature extraction.\n",
        "\n",
        "2. Detecting Overfitting with TensorBoard\n",
        "   - TensorBoard provides scalars for visualizing accuracy and loss over epochs.\n",
        "   - Overfitting appears when training loss continues to decrease while validation loss increases.\n",
        "   - You can also monitor weight histograms and activation distributions to identify excessive complexity in learned features.\n",
        "\n",
        "3. Impact of Increasing Epochs\n",
        "   - Initially, more epochs improve model learning and accuracy.\n",
        "   - However, beyond a certain point, the model starts memorizing the training data, leading to high training accuracy but worsening validation accuracy.\n",
        "   - Early stopping can help mitigate this issue by halting training once validation performance no longer improves. \"\"\"\n"
      ],
      "metadata": {
        "id": "I7JPy6sbOvSg"
      },
      "execution_count": null,
      "outputs": []
    }
  ]
}